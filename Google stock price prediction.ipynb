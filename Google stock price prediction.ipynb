{
 "cells": [
  {
   "cell_type": "markdown",
   "metadata": {},
   "source": [
    "# Linear regression (Google EOD Stock Prices)"
   ]
  },
  {
   "cell_type": "markdown",
   "metadata": {},
   "source": [
    "## STEP 1: Import\n",
    "First we need to import modules for data analysis and our stock data.\n"
   ]
  },
  {
   "cell_type": "code",
   "execution_count": 13,
   "metadata": {},
   "outputs": [],
   "source": [
    "import pandas as pd\n",
    "import numpy as np\n",
    "from sklearn import preprocessing, model_selection, svm\n",
    "from sklearn.linear_model import LinearRegression\n",
    "import math, datetime\n",
    "import quandl as dataStock\n",
    "import matplotlib.pyplot as plt\n",
    "from matplotlib import style"
   ]
  },
  {
   "cell_type": "code",
   "execution_count": 14,
   "metadata": {},
   "outputs": [
    {
     "name": "stdout",
     "output_type": "stream",
     "text": [
      "              Open    High     Low    Close      Volume  Ex-Dividend  \\\n",
      "Date                                                                   \n",
      "2004-08-19  100.01  104.06   95.96  100.335  44659000.0          0.0   \n",
      "2004-08-20  101.01  109.08  100.50  108.310  22834300.0          0.0   \n",
      "2004-08-23  110.76  113.48  109.05  109.400  18256100.0          0.0   \n",
      "2004-08-24  111.24  111.60  103.57  104.870  15247300.0          0.0   \n",
      "2004-08-25  104.76  108.00  103.88  106.000   9188600.0          0.0   \n",
      "\n",
      "            Split Ratio  Adj. Open  Adj. High   Adj. Low  Adj. Close  \\\n",
      "Date                                                                   \n",
      "2004-08-19          1.0  50.159839  52.191109  48.128568   50.322842   \n",
      "2004-08-20          1.0  50.661387  54.708881  50.405597   54.322689   \n",
      "2004-08-23          1.0  55.551482  56.915693  54.693835   54.869377   \n",
      "2004-08-24          1.0  55.792225  55.972783  51.945350   52.597363   \n",
      "2004-08-25          1.0  52.542193  54.167209  52.100830   53.164113   \n",
      "\n",
      "            Adj. Volume  \n",
      "Date                     \n",
      "2004-08-19   44659000.0  \n",
      "2004-08-20   22834300.0  \n",
      "2004-08-23   18256100.0  \n",
      "2004-08-24   15247300.0  \n",
      "2004-08-25    9188600.0  \n"
     ]
    }
   ],
   "source": [
    "df = dataStock.get('WIKI/GOOGL')\n",
    "print(df.head())"
   ]
  },
  {
   "cell_type": "markdown",
   "metadata": {},
   "source": [
    "## STEP 2: Prepare and clean data\n",
    "In this step we need to choose meaningful features. The choosen features are the adjusted ones becouse they show the stoc's price which has been amended to include any distributions and corporate action that occurred at any time prior to the next day's open. Open and close features show us the opening price of stock and the closing price which tell's us if the price went up or down also features high and low show us the price volatility. Volume show's us the number with trades which can coorelate with stock volatility."
   ]
  },
  {
   "cell_type": "code",
   "execution_count": 15,
   "metadata": {},
   "outputs": [
    {
     "name": "stdout",
     "output_type": "stream",
     "text": [
      "            Adj. Open  Adj. High   Adj. Low  Adj. Close  Adj. Volume\n",
      "Date                                                                \n",
      "2004-08-19  50.159839  52.191109  48.128568   50.322842   44659000.0\n",
      "2004-08-20  50.661387  54.708881  50.405597   54.322689   22834300.0\n",
      "2004-08-23  55.551482  56.915693  54.693835   54.869377   18256100.0\n",
      "2004-08-24  55.792225  55.972783  51.945350   52.597363   15247300.0\n",
      "2004-08-25  52.542193  54.167209  52.100830   53.164113    9188600.0\n"
     ]
    }
   ],
   "source": [
    "df = df[['Adj. Open','Adj. High','Adj. Low','Adj. Close','Adj. Volume']]\n",
    "df.fillna(-9999, inplace=True)\n",
    "#Drop NaN values\n",
    "df.dropna(inplace=True)\n",
    "\n",
    "print(df.head())"
   ]
  },
  {
   "cell_type": "markdown",
   "metadata": {},
   "source": [
    "#### Percentage change of volatility"
   ]
  },
  {
   "cell_type": "code",
   "execution_count": 16,
   "metadata": {},
   "outputs": [],
   "source": [
    "df['Volatility_percentage'] = (df['Adj. High'] - df['Adj. Low']) / df['Adj. Low'] * 100.0"
   ]
  },
  {
   "cell_type": "markdown",
   "metadata": {},
   "source": [
    "#### Percentage daily change"
   ]
  },
  {
   "cell_type": "code",
   "execution_count": 17,
   "metadata": {},
   "outputs": [],
   "source": [
    "df['Daily_percentage'] = (df['Adj. Close'] - df['Adj. Open']) / df['Adj. Open'] * 100.0"
   ]
  },
  {
   "cell_type": "markdown",
   "metadata": {},
   "source": [
    "#### Transformed data (features)"
   ]
  },
  {
   "cell_type": "code",
   "execution_count": 18,
   "metadata": {
    "scrolled": true
   },
   "outputs": [
    {
     "name": "stdout",
     "output_type": "stream",
     "text": [
      "            Adj. Close  Volatility_percentage  Daily_percentage  Adj. Volume\n",
      "Date                                                                        \n",
      "2004-08-19   50.322842               8.441017          0.324968   44659000.0\n",
      "2004-08-20   54.322689               8.537313          7.227007   22834300.0\n",
      "2004-08-23   54.869377               4.062357         -1.227880   18256100.0\n",
      "2004-08-24   52.597363               7.753210         -5.726357   15247300.0\n",
      "2004-08-25   53.164113               3.966115          1.183658    9188600.0\n"
     ]
    }
   ],
   "source": [
    "df = df[['Adj. Close', 'Volatility_percentage', 'Daily_percentage', 'Adj. Volume']]\n",
    "print(df.head())"
   ]
  },
  {
   "cell_type": "markdown",
   "metadata": {},
   "source": [
    "#### Transformed data (label)\n",
    "We are using 1% (34 days) stock price closing values as our targeted values."
   ]
  },
  {
   "cell_type": "code",
   "execution_count": 19,
   "metadata": {},
   "outputs": [
    {
     "name": "stdout",
     "output_type": "stream",
     "text": [
      "            Adj. Close  Volatility_percentage  Daily_percentage  Adj. Volume  \\\n",
      "Date                                                                           \n",
      "2004-08-19   50.322842               8.441017          0.324968   44659000.0   \n",
      "2004-08-20   54.322689               8.537313          7.227007   22834300.0   \n",
      "2004-08-23   54.869377               4.062357         -1.227880   18256100.0   \n",
      "2004-08-24   52.597363               7.753210         -5.726357   15247300.0   \n",
      "2004-08-25   53.164113               3.966115          1.183658    9188600.0   \n",
      "\n",
      "                Label  \n",
      "Date                   \n",
      "2004-08-19  69.639972  \n",
      "2004-08-20  69.078238  \n",
      "2004-08-23  67.839414  \n",
      "2004-08-24  68.912727  \n",
      "2004-08-25  70.668146  \n"
     ]
    }
   ],
   "source": [
    "forecast_col = 'Adj. Close'\n",
    "forecast_days = int(math.ceil(0.01*len(df)))\n",
    "df['Label'] = df[forecast_col].shift(-forecast_days)\n",
    "df.dropna(inplace=True)\n",
    "print(df.head())\n"
   ]
  },
  {
   "cell_type": "markdown",
   "metadata": {},
   "source": [
    "## STEP 3: Train the alghoritm and test the trained model"
   ]
  },
  {
   "cell_type": "code",
   "execution_count": 20,
   "metadata": {},
   "outputs": [],
   "source": [
    "#features\n",
    "X = np.array(df.drop(['Label'], 1))\n",
    "#label\n",
    "y = np.array(df['Label'])\n"
   ]
  },
  {
   "cell_type": "code",
   "execution_count": 21,
   "metadata": {},
   "outputs": [],
   "source": [
    "#Standardize feature data\n",
    "X = preprocessing.scale(X)\n",
    "#The newest 34 days of stock data\n",
    "X_lately = X[-forecast_days:]\n",
    "\n",
    "y = np.array(df['Label'])"
   ]
  },
  {
   "cell_type": "code",
   "execution_count": 22,
   "metadata": {},
   "outputs": [],
   "source": [
    "X_train, X_test, y_train, y_test = model_selection.train_test_split(X, y, test_size=0.3)\n",
    "\n",
    "classifier = LinearRegression()\n",
    "classifier.fit(X_train, y_train)\n",
    "\n",
    "#Confidence shows us accuracy\n",
    "confidence = classifier.score(X_test, y_test)\n"
   ]
  },
  {
   "cell_type": "markdown",
   "metadata": {},
   "source": [
    "## STEP 4: Prediction\n",
    "Prediction of stock values fot the next 34 days."
   ]
  },
  {
   "cell_type": "code",
   "execution_count": 23,
   "metadata": {
    "scrolled": false
   },
   "outputs": [
    {
     "name": "stdout",
     "output_type": "stream",
     "text": [
      "[  996.64377725   982.57569251   958.46514418   969.73124185   947.7518583\n",
      "   940.63680733   930.22505472   942.20856622   938.01911717   951.11165064\n",
      "   961.74478309   964.61138835   978.2755048    979.55458809   988.31642458\n",
      "   986.80932937   996.79865561  1003.93263986  1003.10950779  1004.70751212\n",
      "  1008.19636825   978.5041327    976.13603068   961.36716164   968.38833911\n",
      "   956.02264155   957.91267673   958.01317338   951.89366055   957.20235236\n",
      "   957.43875627   955.38146316   951.25265929   934.37396892] 0.974926040859 34\n"
     ]
    }
   ],
   "source": [
    "forecast_set = classifier.predict(X_lately)\n",
    "print(forecast_set, confidence, forecast_days)\n"
   ]
  },
  {
   "cell_type": "code",
   "execution_count": 24,
   "metadata": {},
   "outputs": [
    {
     "data": {
      "text/plain": [
       "<function matplotlib.pyplot.show>"
      ]
     },
     "execution_count": 24,
     "metadata": {},
     "output_type": "execute_result"
    },
    {
     "data": {
      "image/png": "[encoded data removed]",
      "text/plain": [
       "<matplotlib.figure.Figure at 0x10fb18e10>"
      ]
     },
     "metadata": {},
     "output_type": "display_data"
    }
   ],
   "source": [
    "%matplotlib inline\n",
    "style.use('ggplot')\n",
    "df['Forecast'] = np.nan\n",
    "\n",
    "#last value form stock data\n",
    "last_date = df.iloc[-1].name\n",
    "last_unix = last_date.timestamp()\n",
    "#number of seconds in a day\n",
    "one_day = 86400\n",
    "next_unix = last_unix + one_day\n",
    "\n",
    "for i in forecast_set:\n",
    "    next_date = datetime.datetime.fromtimestamp(next_unix)\n",
    "    next_unix += one_day\n",
    "    df.loc[next_date] = [np.nan for _ in range(len(df.columns)-1)] + [i]\n",
    "    \n",
    "df['Adj. Close'].plot()\n",
    "df['Forecast'].plot()\n",
    "plt.legend(loc = 4)\n",
    "plt.xlabel('Date')\n",
    "plt.ylabel('Price')\n",
    "plt.show"
   ]
  }
 ],
 "metadata": {
  "kernelspec": {
   "display_name": "Python 3",
   "language": "python",
   "name": "python3"
  },
  "language_info": {
   "codemirror_mode": {
    "name": "ipython",
    "version": 3
   },
   "file_extension": ".py",
   "mimetype": "text/x-python",
   "name": "python",
   "nbconvert_exporter": "python",
   "pygments_lexer": "ipython3",
   "version": "3.6.2"
  }
 },
 "nbformat": 4,
 "nbformat_minor": 2
}
